{
 "cells": [
  {
   "cell_type": "code",
   "execution_count": 1,
   "id": "c60bfb1c",
   "metadata": {},
   "outputs": [],
   "source": [
    "import numpy as np"
   ]
  },
  {
   "cell_type": "code",
   "execution_count": 3,
   "id": "4dc5b37d",
   "metadata": {},
   "outputs": [],
   "source": [
    "A=np.random.randn(10,4)\n",
    "B=np.random.randn(10,4)\n",
    "result=np.zeros((10,4))"
   ]
  },
  {
   "cell_type": "code",
   "execution_count": 4,
   "id": "bcaed7ae",
   "metadata": {},
   "outputs": [
    {
     "name": "stdout",
     "output_type": "stream",
     "text": [
      "[[ 0.07174374  0.18538047 -0.36075707 -1.11569345]\n",
      " [ 0.6923826   0.37619805  0.13578051 -0.77864485]\n",
      " [ 1.8488424  -0.83473727 -0.30908934  0.15405368]\n",
      " [-0.00454431  0.22361394  0.25660539 -0.89449248]\n",
      " [ 2.23302921 -0.60293552  0.15772187 -0.12883724]\n",
      " [-0.04845748 -0.23627471 -0.56174722  0.24575027]\n",
      " [-0.16657219  0.41566614 -0.73528818 -0.09166446]\n",
      " [-0.75961456  0.20732131 -0.59609478  0.10056775]\n",
      " [-2.10687605  0.87800107  0.07664549  0.50472091]\n",
      " [ 0.30308414  0.0074355   0.31351938 -0.03898661]]\n"
     ]
    }
   ],
   "source": [
    "# matrix element wise multiplication\n",
    "for i in range(A.shape[0]):\n",
    "    for j in range(A.shape[1]):\n",
    "        result[i,j]=A[i,j]*B[i,j]\n",
    "print(result)"
   ]
  },
  {
   "cell_type": "code",
   "execution_count": 6,
   "id": "1acfd761",
   "metadata": {},
   "outputs": [
    {
     "name": "stdout",
     "output_type": "stream",
     "text": [
      "[[ 0.07174374  0.18538047 -0.36075707 -1.11569345]\n",
      " [ 0.6923826   0.37619805  0.13578051 -0.77864485]\n",
      " [ 1.8488424  -0.83473727 -0.30908934  0.15405368]\n",
      " [-0.00454431  0.22361394  0.25660539 -0.89449248]\n",
      " [ 2.23302921 -0.60293552  0.15772187 -0.12883724]\n",
      " [-0.04845748 -0.23627471 -0.56174722  0.24575027]\n",
      " [-0.16657219  0.41566614 -0.73528818 -0.09166446]\n",
      " [-0.75961456  0.20732131 -0.59609478  0.10056775]\n",
      " [-2.10687605  0.87800107  0.07664549  0.50472091]\n",
      " [ 0.30308414  0.0074355   0.31351938 -0.03898661]]\n"
     ]
    }
   ],
   "source": [
    "# shortcut or vectorize implementation\n",
    "print(A*B)"
   ]
  },
  {
   "cell_type": "code",
   "execution_count": null,
   "id": "3e428c57",
   "metadata": {},
   "outputs": [],
   "source": []
  }
 ],
 "metadata": {
  "kernelspec": {
   "display_name": "Python 3 (ipykernel)",
   "language": "python",
   "name": "python3"
  },
  "language_info": {
   "codemirror_mode": {
    "name": "ipython",
    "version": 3
   },
   "file_extension": ".py",
   "mimetype": "text/x-python",
   "name": "python",
   "nbconvert_exporter": "python",
   "pygments_lexer": "ipython3",
   "version": "3.11.9"
  }
 },
 "nbformat": 4,
 "nbformat_minor": 5
}
