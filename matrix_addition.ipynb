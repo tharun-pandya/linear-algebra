{
 "cells": [
  {
   "cell_type": "code",
   "execution_count": 1,
   "id": "7b3d7a78",
   "metadata": {},
   "outputs": [],
   "source": [
    "import numpy as np"
   ]
  },
  {
   "cell_type": "code",
   "execution_count": 5,
   "id": "d3d8b169",
   "metadata": {},
   "outputs": [],
   "source": [
    "matrix_A=np.random.randn(5,5)\n",
    "matrix_B=np.random.randn(5,5)"
   ]
  },
  {
   "cell_type": "code",
   "execution_count": 6,
   "id": "90c1063a",
   "metadata": {},
   "outputs": [
    {
     "name": "stdout",
     "output_type": "stream",
     "text": [
      "[[ 0.09025671  1.99667043 -0.42306301  0.67264145 -1.82154609]\n",
      " [ 0.64638163 -0.84406757  3.57617163  2.68144627  0.32804879]\n",
      " [-2.05736349  0.43190664 -1.91255465 -1.55198875  1.56651952]\n",
      " [ 2.89093024 -0.53631511 -2.48946521 -2.25104504  0.78254721]\n",
      " [ 1.36413545  1.31868933 -0.49672    -1.08682511  0.56024609]]\n"
     ]
    }
   ],
   "source": [
    "# matrix addition\n",
    "output=np.zeros((5,5))\n",
    "for i in range(matrix_A.shape[0]):\n",
    "    for j in range(matrix_A.shape[1]):\n",
    "        output[i,j]=matrix_A[i,j]+matrix_B[i,j]\n",
    "print(output)"
   ]
  },
  {
   "cell_type": "code",
   "execution_count": 8,
   "id": "f28b6e31",
   "metadata": {},
   "outputs": [
    {
     "name": "stdout",
     "output_type": "stream",
     "text": [
      "[[ 0.09025671  1.99667043 -0.42306301  0.67264145 -1.82154609]\n",
      " [ 0.64638163 -0.84406757  3.57617163  2.68144627  0.32804879]\n",
      " [-2.05736349  0.43190664 -1.91255465 -1.55198875  1.56651952]\n",
      " [ 2.89093024 -0.53631511 -2.48946521 -2.25104504  0.78254721]\n",
      " [ 1.36413545  1.31868933 -0.49672    -1.08682511  0.56024609]]\n"
     ]
    }
   ],
   "source": [
    "# shortcut or vectorize implementation\n",
    "print(matrix_A+matrix_B)"
   ]
  },
  {
   "cell_type": "code",
   "execution_count": null,
   "id": "e519a9b7",
   "metadata": {},
   "outputs": [],
   "source": []
  }
 ],
 "metadata": {
  "kernelspec": {
   "display_name": "Python 3 (ipykernel)",
   "language": "python",
   "name": "python3"
  },
  "language_info": {
   "codemirror_mode": {
    "name": "ipython",
    "version": 3
   },
   "file_extension": ".py",
   "mimetype": "text/x-python",
   "name": "python",
   "nbconvert_exporter": "python",
   "pygments_lexer": "ipython3",
   "version": "3.11.9"
  }
 },
 "nbformat": 4,
 "nbformat_minor": 5
}
