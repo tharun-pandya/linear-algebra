{
 "cells": [
  {
   "cell_type": "code",
   "execution_count": 7,
   "id": "5b298770",
   "metadata": {},
   "outputs": [
    {
     "name": "stdout",
     "output_type": "stream",
     "text": [
      "[[12  3 13  6]\n",
      " [ 1 15  7  5]\n",
      " [ 4 11  4  8]\n",
      " [18  2  6  8]]\n"
     ]
    }
   ],
   "source": [
    "import numpy as np\n",
    "A=np.array([[12,3,13,6],[1,15,7,5],[4,11,4,8],[18,2,6,8]])\n",
    "print(A)"
   ]
  },
  {
   "cell_type": "code",
   "execution_count": 5,
   "id": "d11d324b",
   "metadata": {},
   "outputs": [
    {
     "name": "stdout",
     "output_type": "stream",
     "text": [
      "[[1]\n",
      " [2]\n",
      " [3]\n",
      " [4]]\n"
     ]
    }
   ],
   "source": [
    "x=np.array([[1],[2],[3],[4]])\n",
    "print(x)"
   ]
  },
  {
   "cell_type": "code",
   "execution_count": 10,
   "id": "053ab5a0",
   "metadata": {},
   "outputs": [],
   "source": [
    "def transformation(a,x):\n",
    "    result=np.zeros((a.shape[0],x.shape[1]))\n",
    "    for i in range(x.shape[0]):\n",
    "        for j in range(a.shape[0]):\n",
    "            result[i]+=a[i,j]*x[j]\n",
    "    return result"
   ]
  },
  {
   "cell_type": "code",
   "execution_count": 11,
   "id": "28b4c0e0",
   "metadata": {},
   "outputs": [
    {
     "name": "stdout",
     "output_type": "stream",
     "text": [
      "[[81.]\n",
      " [72.]\n",
      " [70.]\n",
      " [72.]]\n"
     ]
    }
   ],
   "source": [
    "print(transformation(A,x))"
   ]
  },
  {
   "cell_type": "code",
   "execution_count": null,
   "id": "c11bf2c7",
   "metadata": {},
   "outputs": [],
   "source": []
  }
 ],
 "metadata": {
  "kernelspec": {
   "display_name": "Python 3 (ipykernel)",
   "language": "python",
   "name": "python3"
  },
  "language_info": {
   "codemirror_mode": {
    "name": "ipython",
    "version": 3
   },
   "file_extension": ".py",
   "mimetype": "text/x-python",
   "name": "python",
   "nbconvert_exporter": "python",
   "pygments_lexer": "ipython3",
   "version": "3.11.9"
  }
 },
 "nbformat": 4,
 "nbformat_minor": 5
}
