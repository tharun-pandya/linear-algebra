{
 "cells": [
  {
   "cell_type": "code",
   "execution_count": 1,
   "id": "2f0dc201",
   "metadata": {},
   "outputs": [],
   "source": [
    "import numpy as np"
   ]
  },
  {
   "cell_type": "code",
   "execution_count": 8,
   "id": "21526ea2",
   "metadata": {},
   "outputs": [
    {
     "name": "stdout",
     "output_type": "stream",
     "text": [
      "[[-1.06767827 -0.51275752  0.56100037  0.22490759 -0.18291807 -0.4870872\n",
      "  -0.0101673  -0.44120567  0.74956917  0.3912265 ]\n",
      " [-1.22956163  0.63996842  0.85153649 -0.43401372  0.3776856  -0.2510585\n",
      "  -0.93774316 -0.80486369 -0.27113764 -1.11036233]\n",
      " [-0.02000818 -0.41435292 -0.45817754 -0.3579896  -0.1306363  -0.55137574\n",
      "   2.12719251 -0.40680042  0.12043113  0.04067795]\n",
      " [ 0.49930105  0.29317469  1.61136055  1.92132152 -0.82028037  0.70012572\n",
      "  -0.37428437 -1.21696821 -1.65660519  0.72998066]\n",
      " [-1.82162628 -1.03276268 -1.45036073  0.97278037  0.74851449  1.22075254\n",
      "  -0.2927485   0.83486889 -0.4149674  -0.73128332]\n",
      " [ 0.88996961  0.90896277 -0.47948061 -0.8602242   2.0379613   1.12664882\n",
      "   0.76221192 -0.4513129   0.45891175 -1.0680693 ]\n",
      " [-0.09670809 -0.2359322  -1.64867481  0.26269899 -0.64673083  0.41660394\n",
      "   0.20795292  1.51688645 -1.00382984 -1.28887961]\n",
      " [ 1.22370912  0.20255671 -0.18167328 -0.520216   -0.55202565 -1.22424149\n",
      "   0.22091623  1.03633423  2.29096765 -0.26755654]\n",
      " [ 1.05542182  0.72806779  1.01156102  0.94422806  1.55889169 -2.45579074\n",
      "  -0.0738454   0.43756102  0.41377504 -0.83768525]\n",
      " [ 0.44084217  0.03056328 -0.21360402  1.38327996 -0.50155021  1.39506071\n",
      "   0.31000617  1.56527558  0.34294266  1.14184141]]\n",
      "[[ 1  1  1]\n",
      " [ 0  0  0]\n",
      " [-1 -1 -1]]\n"
     ]
    }
   ],
   "source": [
    "matrix=np.random.randn(10,10)\n",
    "filter_matrix=np.array([[1,1,1],\n",
    "                       [0,0,0],\n",
    "                       [-1,-1,-1]])\n",
    "print(matrix)\n",
    "print(filter_matrix)"
   ]
  },
  {
   "cell_type": "code",
   "execution_count": 9,
   "id": "fb503d9c",
   "metadata": {},
   "outputs": [
    {
     "name": "stdout",
     "output_type": "stream",
     "text": [
      "8\n"
     ]
    }
   ],
   "source": [
    "n=matrix.shape[0]\n",
    "m=filter_matrix.shape[0]\n",
    "size=n-m+1\n",
    "print(size)"
   ]
  },
  {
   "cell_type": "code",
   "execution_count": 5,
   "id": "20bcd449",
   "metadata": {},
   "outputs": [],
   "source": [
    "# optimal way\n",
    "def optimize_operation(x,f,s):\n",
    "    optimize_mat=np.zeros((s,s))\n",
    "    for i in range(x.shape[1]-2):\n",
    "        for j in range(x.shape[0]-2):\n",
    "            optimize_mat[i,j]=np.sum(x[i:i+f.shape[1],j:j+f.shape[0]]*f)\n",
    "    return optimize_mat"
   ]
  },
  {
   "cell_type": "code",
   "execution_count": 10,
   "id": "d280fc85",
   "metadata": {},
   "outputs": [
    {
     "name": "stdout",
     "output_type": "stream",
     "text": [
      "[[-0.12689678  1.50367049  1.54979332  0.59490396 -2.12535305 -2.10747653\n",
      "  -1.54262703  0.94528134]\n",
      " [-2.14189301 -2.76836558 -1.91719334 -2.10855349 -0.31667704 -1.10253849\n",
      "   1.23411327 -0.04277093]\n",
      " [ 3.41221105  0.27982298 -1.21773757 -3.98204904 -0.23133805 -0.59385657\n",
      "   1.71367023  0.06569049]\n",
      " [ 1.08438452  4.25659881  2.01414522 -0.50321905 -4.42126107 -2.3286747\n",
      "  -4.01766854 -1.08312228]\n",
      " [-2.32343458  0.11156499  2.30364079  2.9094753   1.6986925  -0.37857038\n",
      "  -0.59385653  0.46444117]\n",
      " [ 0.07485922  0.06859053  1.95217143  4.60086906  5.48217295  1.40453887\n",
      "  -2.77840734 -4.12021579]\n",
      " [-4.77636574 -4.3057649  -5.54738743 -0.01475691  0.94857048  4.23351844\n",
      "  -0.05648114 -0.78947382]\n",
      " [ 0.98679111 -1.69957179 -1.92204067 -4.5732736  -2.75886757 -3.23733347\n",
      "   1.32999371  0.0096857 ]]\n"
     ]
    }
   ],
   "source": [
    "print(optimize_operation(matrix,filter_matrix,size))"
   ]
  },
  {
   "cell_type": "code",
   "execution_count": 11,
   "id": "9c652007",
   "metadata": {},
   "outputs": [],
   "source": [
    "matrix2=optimize_operation(matrix,filter_matrix,size)"
   ]
  },
  {
   "cell_type": "code",
   "execution_count": 14,
   "id": "d42d61dd",
   "metadata": {},
   "outputs": [],
   "source": [
    "size2=matrix2.shape[0]-filter_matrix.shape[0]+1"
   ]
  },
  {
   "cell_type": "code",
   "execution_count": 15,
   "id": "450dca97",
   "metadata": {},
   "outputs": [
    {
     "name": "stdout",
     "output_type": "stream",
     "text": [
      "[[  0.45227057   8.5683314    5.45046889   1.16931804  -6.66393221\n",
      "   -3.89032636]\n",
      " [-14.18258048 -12.56163739  -1.43208897   3.72538579  10.58250205\n",
      "    7.51826937]\n",
      " [  2.38252527 -10.2446447  -12.34293323  -9.03684107   0.16221003\n",
      "    1.69348989]\n",
      " [  5.25950737  -0.85410605 -14.94554834 -18.74073571 -14.87590879\n",
      "   -1.93538125]\n",
      " [ 14.72128925  15.19259031  11.52538244  -0.93773459  -4.3993422\n",
      "   -3.89554923]\n",
      " [  4.73044253  14.81651709  21.28939529  22.05705553   8.77451182\n",
      "   -3.5964302 ]]\n"
     ]
    }
   ],
   "source": [
    "print(optimize_operation(matrix2,filter_matrix,size2))"
   ]
  },
  {
   "cell_type": "code",
   "execution_count": 18,
   "id": "0de05cb6",
   "metadata": {},
   "outputs": [],
   "source": [
    "matrix3=optimize_operation(matrix2,filter_matrix,size2)"
   ]
  },
  {
   "cell_type": "code",
   "execution_count": 19,
   "id": "f79c0f34",
   "metadata": {},
   "outputs": [],
   "source": [
    "size3=matrix3.shape[0]-filter_matrix.shape[0]+1"
   ]
  },
  {
   "cell_type": "code",
   "execution_count": 20,
   "id": "8e8e43b1",
   "metadata": {},
   "outputs": [
    {
     "name": "stdout",
     "output_type": "stream",
     "text": [
      "[[  34.67612353   46.81253734   21.173419     -2.20379937]\n",
      " [ -17.63615982   24.27204953   61.43799171   57.37818296]\n",
      " [ -61.64431467  -57.40465718  -27.40586993    2.05148486]\n",
      " [ -51.37650193  -92.70335801 -100.68315548  -62.78716291]]\n"
     ]
    }
   ],
   "source": [
    "print(optimize_operation(matrix3,filter_matrix,size3))"
   ]
  },
  {
   "cell_type": "code",
   "execution_count": null,
   "id": "929724df",
   "metadata": {},
   "outputs": [],
   "source": []
  }
 ],
 "metadata": {
  "kernelspec": {
   "display_name": "Python 3 (ipykernel)",
   "language": "python",
   "name": "python3"
  },
  "language_info": {
   "codemirror_mode": {
    "name": "ipython",
    "version": 3
   },
   "file_extension": ".py",
   "mimetype": "text/x-python",
   "name": "python",
   "nbconvert_exporter": "python",
   "pygments_lexer": "ipython3",
   "version": "3.11.9"
  }
 },
 "nbformat": 4,
 "nbformat_minor": 5
}
