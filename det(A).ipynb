{
 "cells": [
  {
   "cell_type": "code",
   "execution_count": 2,
   "id": "10ce017a",
   "metadata": {},
   "outputs": [],
   "source": [
    "import numpy as np"
   ]
  },
  {
   "cell_type": "code",
   "execution_count": 3,
   "id": "56d8e543",
   "metadata": {},
   "outputs": [],
   "source": [
    "def det(a):\n",
    "    if len(a) == 1:\n",
    "        return a[0][0]\n",
    "    if len(a) == 2:\n",
    "        return a[0][0] * a[1][1] - a[0][1] * a[1][0]\n",
    "    result=0\n",
    "    for col in range(len(a)):\n",
    "        minor = [\n",
    "            [a[row][c] for c in range(len(a)) if c != col]\n",
    "            for row in range(1, len(a))\n",
    "        ]\n",
    "        result += ((-1) ** col) * a[0][col] * det(np.array(minor))\n",
    "\n",
    "    return result               "
   ]
  },
  {
   "cell_type": "code",
   "execution_count": 4,
   "id": "00b10b74",
   "metadata": {},
   "outputs": [],
   "source": [
    "A=np.array([[12,3,13,6],[1,15,7,5],[4,11,4,8],[18,2,6,8]])"
   ]
  },
  {
   "cell_type": "code",
   "execution_count": 5,
   "id": "a0305fd8",
   "metadata": {},
   "outputs": [
    {
     "data": {
      "text/plain": [
       "array([[12,  3, 13,  6],\n",
       "       [ 1, 15,  7,  5],\n",
       "       [ 4, 11,  4,  8],\n",
       "       [18,  2,  6,  8]])"
      ]
     },
     "execution_count": 5,
     "metadata": {},
     "output_type": "execute_result"
    }
   ],
   "source": [
    "A"
   ]
  },
  {
   "cell_type": "code",
   "execution_count": 21,
   "id": "c714fcba",
   "metadata": {},
   "outputs": [
    {
     "name": "stdout",
     "output_type": "stream",
     "text": [
      "user define function \t predefine function \n",
      "\n",
      " \t 6706 \t\t 6705.999999999999\n"
     ]
    }
   ],
   "source": [
    "print(\"user define function \\t predefine function \\n\\n\",'\\t',det(A),\"\\t\\t\",np.linalg.det(A))"
   ]
  },
  {
   "cell_type": "code",
   "execution_count": 22,
   "id": "3226ddbf",
   "metadata": {},
   "outputs": [],
   "source": [
    "B=np.array([[1,2,3],[4,5,6],[7,8,9]])"
   ]
  },
  {
   "cell_type": "code",
   "execution_count": 23,
   "id": "d221f53b",
   "metadata": {},
   "outputs": [
    {
     "name": "stdout",
     "output_type": "stream",
     "text": [
      "user define function \t predefine function \n",
      "\n",
      " \t 0 \t\t -9.51619735392994e-16\n"
     ]
    }
   ],
   "source": [
    "print(\"user define function \\t predefine function \\n\\n\",'\\t',det(B),\"\\t\\t\",np.linalg.det(B))"
   ]
  },
  {
   "cell_type": "code",
   "execution_count": 24,
   "id": "2ebf1146",
   "metadata": {},
   "outputs": [],
   "source": [
    "C=np.array([[1,3,5],[2,4,6],[7,9,3]])"
   ]
  },
  {
   "cell_type": "code",
   "execution_count": 25,
   "id": "47d215bd",
   "metadata": {},
   "outputs": [
    {
     "name": "stdout",
     "output_type": "stream",
     "text": [
      "user define function \t predefine function \n",
      "\n",
      " \t 16 \t\t 16.000000000000007\n"
     ]
    }
   ],
   "source": [
    "print(\"user define function \\t predefine function \\n\\n\",'\\t',det(C),\"\\t\\t\",np.linalg.det(C))"
   ]
  },
  {
   "cell_type": "code",
   "execution_count": null,
   "id": "65bbca53",
   "metadata": {},
   "outputs": [],
   "source": []
  }
 ],
 "metadata": {
  "kernelspec": {
   "display_name": "Python 3 (ipykernel)",
   "language": "python",
   "name": "python3"
  },
  "language_info": {
   "codemirror_mode": {
    "name": "ipython",
    "version": 3
   },
   "file_extension": ".py",
   "mimetype": "text/x-python",
   "name": "python",
   "nbconvert_exporter": "python",
   "pygments_lexer": "ipython3",
   "version": "3.11.9"
  }
 },
 "nbformat": 4,
 "nbformat_minor": 5
}
