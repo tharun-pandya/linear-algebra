{
 "cells": [
  {
   "cell_type": "code",
   "execution_count": 1,
   "id": "13ef295d",
   "metadata": {},
   "outputs": [
    {
     "name": "stdout",
     "output_type": "stream",
     "text": [
      "[[1]\n",
      " [2]\n",
      " [3]] [[4]\n",
      " [5]\n",
      " [6]]\n"
     ]
    }
   ],
   "source": [
    "import numpy as np\n",
    "A=np.array([[1],[2],[3]])\n",
    "B=np.array([[4],[5],[6]])\n",
    "print(A,B)"
   ]
  },
  {
   "cell_type": "code",
   "execution_count": 2,
   "id": "4c89bbfd",
   "metadata": {},
   "outputs": [
    {
     "name": "stdout",
     "output_type": "stream",
     "text": [
      "[[0.]\n",
      " [0.]\n",
      " [0.]]\n"
     ]
    }
   ],
   "source": [
    "cross_product=np.zeros((3,1))\n",
    "print(cross_product)"
   ]
  },
  {
   "cell_type": "code",
   "execution_count": 10,
   "id": "bc2199c8",
   "metadata": {},
   "outputs": [],
   "source": [
    "for i in range(A.shape[0]):\n",
    "    if i==A.shape[0]-1:\n",
    "        cross_product[i]=(A[i]*B[0])-(B[i]*A[0])\n",
    "    else:\n",
    "        cross_product[i]=(A[i]*B[i+1])-(B[i]*A[i+1])"
   ]
  },
  {
   "cell_type": "code",
   "execution_count": 11,
   "id": "a30610f5",
   "metadata": {},
   "outputs": [
    {
     "name": "stdout",
     "output_type": "stream",
     "text": [
      "[[-3.]\n",
      " [-3.]\n",
      " [ 6.]]\n"
     ]
    }
   ],
   "source": [
    "print(cross_product)"
   ]
  },
  {
   "cell_type": "code",
   "execution_count": null,
   "id": "5f762a5e",
   "metadata": {},
   "outputs": [],
   "source": []
  }
 ],
 "metadata": {
  "kernelspec": {
   "display_name": "Python 3 (ipykernel)",
   "language": "python",
   "name": "python3"
  },
  "language_info": {
   "codemirror_mode": {
    "name": "ipython",
    "version": 3
   },
   "file_extension": ".py",
   "mimetype": "text/x-python",
   "name": "python",
   "nbconvert_exporter": "python",
   "pygments_lexer": "ipython3",
   "version": "3.11.9"
  }
 },
 "nbformat": 4,
 "nbformat_minor": 5
}
