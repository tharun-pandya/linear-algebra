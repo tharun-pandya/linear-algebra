{
 "cells": [
  {
   "cell_type": "code",
   "execution_count": 10,
   "id": "7ba0753f",
   "metadata": {},
   "outputs": [],
   "source": [
    "import numpy as np"
   ]
  },
  {
   "cell_type": "code",
   "execution_count": 11,
   "id": "d82791cf",
   "metadata": {},
   "outputs": [],
   "source": [
    "mat_A=np.random.randn(3,4)\n",
    "mat_B=np.random.randn(3,4)"
   ]
  },
  {
   "cell_type": "code",
   "execution_count": 12,
   "id": "3c5116af",
   "metadata": {},
   "outputs": [
    {
     "name": "stdout",
     "output_type": "stream",
     "text": [
      "[[ 4.10444352e-01 -3.99533848e-01  1.14841181e+00  1.75618537e+00]\n",
      " [ 2.23584719e-01 -2.71459010e-01  7.78985496e-01 -9.64372536e-02]\n",
      " [-9.11772843e-02 -5.79725901e-02  2.80614799e+00  1.47165428e-03]]\n"
     ]
    }
   ],
   "source": [
    "# matrix subtraction\n",
    "out=np.zeros((3,4))\n",
    "for i in range(mat_A.shape[0]):\n",
    "    for j in range(mat_A.shape[1]):\n",
    "        out[i,j]=mat_A[i,j]-mat_B[i,j]\n",
    "print(out)"
   ]
  },
  {
   "cell_type": "code",
   "execution_count": 13,
   "id": "e980c25b",
   "metadata": {},
   "outputs": [
    {
     "name": "stdout",
     "output_type": "stream",
     "text": [
      "[[ 4.10444352e-01 -3.99533848e-01  1.14841181e+00  1.75618537e+00]\n",
      " [ 2.23584719e-01 -2.71459010e-01  7.78985496e-01 -9.64372536e-02]\n",
      " [-9.11772843e-02 -5.79725901e-02  2.80614799e+00  1.47165428e-03]]\n"
     ]
    }
   ],
   "source": [
    "# shortcut or vectorize implementation\n",
    "print(mat_A-mat_B)"
   ]
  },
  {
   "cell_type": "code",
   "execution_count": null,
   "id": "3b23fd92",
   "metadata": {},
   "outputs": [],
   "source": []
  }
 ],
 "metadata": {
  "kernelspec": {
   "display_name": "Python 3 (ipykernel)",
   "language": "python",
   "name": "python3"
  },
  "language_info": {
   "codemirror_mode": {
    "name": "ipython",
    "version": 3
   },
   "file_extension": ".py",
   "mimetype": "text/x-python",
   "name": "python",
   "nbconvert_exporter": "python",
   "pygments_lexer": "ipython3",
   "version": "3.11.9"
  }
 },
 "nbformat": 4,
 "nbformat_minor": 5
}
