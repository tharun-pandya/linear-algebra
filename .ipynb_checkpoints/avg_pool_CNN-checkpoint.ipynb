{
 "cells": [
  {
   "cell_type": "code",
   "execution_count": 1,
   "id": "6aeed4b9",
   "metadata": {},
   "outputs": [],
   "source": [
    "import numpy as np"
   ]
  },
  {
   "cell_type": "code",
   "execution_count": 2,
   "id": "707425cd",
   "metadata": {},
   "outputs": [],
   "source": [
    "def avg_pool(matrix):\n",
    "    average=0\n",
    "    for i in range(matrix.shape[0]):\n",
    "        for j in range(matrix.shape[1]):\n",
    "            average+=matrix[i,j]\n",
    "    return(average/(matrix.shape[0]*matrix.shape[1]))"
   ]
  },
  {
   "cell_type": "code",
   "execution_count": 39,
   "id": "97d9a490",
   "metadata": {},
   "outputs": [],
   "source": [
    "def pooling(x,f,s=1,p=0):\n",
    "    rows,cols=x.shape\n",
    "    size=int((((rows+2*p)-f)/s)+1)\n",
    "    output=np.zeros((size,size))\n",
    "    output_row=0\n",
    "    for i in range(0,rows,s):\n",
    "        output_col=0\n",
    "        if i+f>rows:\n",
    "            break\n",
    "        for j in range(0,cols,s):\n",
    "            if j+f>cols:\n",
    "                break\n",
    "            output[output_row,output_col]=avg_pool(x[i:i+f,j:j+f])\n",
    "            output_col+=1\n",
    "        output_row+=1\n",
    "    return(output)"
   ]
  },
  {
   "cell_type": "code",
   "execution_count": 40,
   "id": "91f7854b",
   "metadata": {},
   "outputs": [],
   "source": [
    "array=np.array([[1,3,2,1],\n",
    "               [2,9,1,1],\n",
    "               [1,4,2,3],\n",
    "               [5,6,1,2]])\n",
    "f=2\n",
    "s=2"
   ]
  },
  {
   "cell_type": "code",
   "execution_count": 41,
   "id": "59f66ddc",
   "metadata": {},
   "outputs": [
    {
     "name": "stdout",
     "output_type": "stream",
     "text": [
      "[[1 3 2 1]\n",
      " [2 9 1 1]\n",
      " [1 4 2 3]\n",
      " [5 6 1 2]]\n"
     ]
    }
   ],
   "source": [
    "print(array)"
   ]
  },
  {
   "cell_type": "code",
   "execution_count": 43,
   "id": "3475538f",
   "metadata": {},
   "outputs": [
    {
     "name": "stdout",
     "output_type": "stream",
     "text": [
      "[[3.75 1.25]\n",
      " [4.   2.  ]]\n"
     ]
    }
   ],
   "source": [
    "print(pooling(array,f,s))"
   ]
  },
  {
   "cell_type": "code",
   "execution_count": null,
   "id": "015f6c4b",
   "metadata": {},
   "outputs": [],
   "source": []
  }
 ],
 "metadata": {
  "kernelspec": {
   "display_name": "Python 3 (ipykernel)",
   "language": "python",
   "name": "python3"
  },
  "language_info": {
   "codemirror_mode": {
    "name": "ipython",
    "version": 3
   },
   "file_extension": ".py",
   "mimetype": "text/x-python",
   "name": "python",
   "nbconvert_exporter": "python",
   "pygments_lexer": "ipython3",
   "version": "3.11.9"
  }
 },
 "nbformat": 4,
 "nbformat_minor": 5
}
