{
 "cells": [
  {
   "cell_type": "code",
   "execution_count": 1,
   "id": "d111fd23",
   "metadata": {},
   "outputs": [],
   "source": [
    "import numpy as np"
   ]
  },
  {
   "cell_type": "code",
   "execution_count": 17,
   "id": "021edea7",
   "metadata": {},
   "outputs": [
    {
     "name": "stdout",
     "output_type": "stream",
     "text": [
      "[[3 0 1 2 7 4]\n",
      " [1 5 8 9 3 1]\n",
      " [2 7 2 5 1 3]\n",
      " [0 1 3 1 7 8]\n",
      " [4 2 1 6 2 8]\n",
      " [2 4 5 2 3 9]]\n",
      "[[ 1  0 -1]\n",
      " [ 1  0 -1]\n",
      " [ 1  0 -1]]\n"
     ]
    }
   ],
   "source": [
    "mat_A=np.array([[3,0,1,2,7,4],\n",
    "                [1,5,8,9,3,1],\n",
    "                [2,7,2,5,1,3],\n",
    "                [0,1,3,1,7,8],\n",
    "                [4,2,1,6,2,8],\n",
    "                [2,4,5,2,3,9]])\n",
    "filter_mat=np.array([[1,1,1],[0,0,0],[-1,-1,-1]]).T\n",
    "print(mat_A)\n",
    "print(filter_mat)"
   ]
  },
  {
   "cell_type": "code",
   "execution_count": 18,
   "id": "45578a4b",
   "metadata": {},
   "outputs": [],
   "source": [
    "def convolution_operation(m,f):\n",
    "    result=0\n",
    "    for i in range(f.shape[0]):\n",
    "        for j in range(f.shape[1]):\n",
    "            result+=m[i,j]*f[i,j]\n",
    "#             print(m[i,j],'\\t',m[i,j]*f[i,j])\n",
    "    return result"
   ]
  },
  {
   "cell_type": "code",
   "execution_count": 19,
   "id": "61817390",
   "metadata": {},
   "outputs": [
    {
     "name": "stdout",
     "output_type": "stream",
     "text": [
      "[[0. 0. 0. 0.]\n",
      " [0. 0. 0. 0.]\n",
      " [0. 0. 0. 0.]\n",
      " [0. 0. 0. 0.]] (4, 4)\n"
     ]
    }
   ],
   "source": [
    "out_size=(mat_A.shape[0]-filter_mat.shape[0])+1\n",
    "mat_out=np.zeros((out_size,out_size))\n",
    "print(mat_out,mat_out.shape)"
   ]
  },
  {
   "cell_type": "code",
   "execution_count": 20,
   "id": "cbeb222a",
   "metadata": {},
   "outputs": [
    {
     "name": "stdout",
     "output_type": "stream",
     "text": [
      "[[ -5.  -4.   0.   8.]\n",
      " [-10.  -2.   2.   3.]\n",
      " [  0.  -2.  -4.  -7.]\n",
      " [ -3.  -2.  -3. -16.]]\n"
     ]
    }
   ],
   "source": [
    "for i in range(mat_A.shape[1]):\n",
    "    if (i+3>mat_A.shape[1]):\n",
    "            break\n",
    "    for j in range(mat_A.shape[0]):\n",
    "        if (j+3>mat_A.shape[0]):\n",
    "            break\n",
    "        mat_out[i,j]=convolution_operation(mat_A[i:i+filter_mat.shape[1],j:j+filter_mat.shape[0]],filter_mat)\n",
    "#         print(mat_A[i:i+filter_mat.shape[1],j:j+filter_mat.shape[0]],'\\n')\n",
    "print(mat_out)\n",
    "    "
   ]
  },
  {
   "cell_type": "code",
   "execution_count": 21,
   "id": "327b9534",
   "metadata": {},
   "outputs": [
    {
     "name": "stdout",
     "output_type": "stream",
     "text": [
      "[[3 0 1]\n",
      " [1 5 8]\n",
      " [2 7 2]] [[ 1  0 -1]\n",
      " [ 1  0 -1]\n",
      " [ 1  0 -1]]\n"
     ]
    }
   ],
   "source": [
    "print(mat_A[0:0+filter_mat.shape[1],0:0+filter_mat.shape[0]],filter_mat)"
   ]
  },
  {
   "cell_type": "code",
   "execution_count": 13,
   "id": "2d8e8d16",
   "metadata": {},
   "outputs": [
    {
     "data": {
      "text/plain": [
       "3"
      ]
     },
     "execution_count": 13,
     "metadata": {},
     "output_type": "execute_result"
    }
   ],
   "source": [
    "mat_A[0,0]*filter_mat[0,0]"
   ]
  },
  {
   "cell_type": "code",
   "execution_count": null,
   "id": "efefab6d",
   "metadata": {},
   "outputs": [],
   "source": []
  }
 ],
 "metadata": {
  "kernelspec": {
   "display_name": "Python 3 (ipykernel)",
   "language": "python",
   "name": "python3"
  },
  "language_info": {
   "codemirror_mode": {
    "name": "ipython",
    "version": 3
   },
   "file_extension": ".py",
   "mimetype": "text/x-python",
   "name": "python",
   "nbconvert_exporter": "python",
   "pygments_lexer": "ipython3",
   "version": "3.11.9"
  }
 },
 "nbformat": 4,
 "nbformat_minor": 5
}
