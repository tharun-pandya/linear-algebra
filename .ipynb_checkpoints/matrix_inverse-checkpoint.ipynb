{
 "cells": [
  {
   "cell_type": "code",
   "execution_count": 50,
   "id": "4aa6864d",
   "metadata": {},
   "outputs": [],
   "source": [
    "import numpy as np"
   ]
  },
  {
   "cell_type": "code",
   "execution_count": 51,
   "id": "d8e17a9e",
   "metadata": {},
   "outputs": [],
   "source": [
    "def det(A):\n",
    "    rows,cols=A.shape\n",
    "    if rows==1:\n",
    "        return A[0][0]\n",
    "    if rows==2:\n",
    "        return(A[0][0]*A[1][1]-A[0][1]*A[1][0])\n",
    "    result=0\n",
    "    for i in range(rows):\n",
    "        mat=np.zeros((rows-1,cols-1))\n",
    "        n=0\n",
    "        for j in range(1,rows):\n",
    "            m=0\n",
    "            for k in range(cols):\n",
    "                if k==i:\n",
    "                    continue\n",
    "                mat[n][m]=A[j][k]\n",
    "                m+=1\n",
    "            n+=1\n",
    "        result+=((-1)**i)*A[0][i]*det(mat)\n",
    "    return result\n",
    "            "
   ]
  },
  {
   "cell_type": "code",
   "execution_count": 52,
   "id": "32ab0a1a",
   "metadata": {},
   "outputs": [
    {
     "data": {
      "text/plain": [
       "5"
      ]
     },
     "execution_count": 52,
     "metadata": {},
     "output_type": "execute_result"
    }
   ],
   "source": [
    "a=np.array([[2,1],[1,3]])\n",
    "det(a)"
   ]
  },
  {
   "cell_type": "code",
   "execution_count": 53,
   "id": "8c2d1594",
   "metadata": {},
   "outputs": [
    {
     "data": {
      "text/plain": [
       "5"
      ]
     },
     "execution_count": 53,
     "metadata": {},
     "output_type": "execute_result"
    }
   ],
   "source": [
    "int(np.linalg.det(a))"
   ]
  },
  {
   "cell_type": "code",
   "execution_count": 54,
   "id": "a9dadf18",
   "metadata": {},
   "outputs": [],
   "source": [
    "def adjugate(matrix):\n",
    "    if len(matrix)==1:\n",
    "        return matrix[0][0]\n",
    "    if len(matrix)==2:\n",
    "        res=np.zeros((2,2))\n",
    "        res[0,0]=matrix[1,1]\n",
    "        res[0,1]=(-1)*matrix[0,1]\n",
    "        res[1,0]=(-1)*matrix[1,0]\n",
    "        res[1,1]=matrix[0,0]\n",
    "        return res\n",
    "    if len(matrix)>=3:\n",
    "        rows,cols=matrix.shape\n",
    "        result=np.zeros((rows,cols))\n",
    "        for l in range(rows):\n",
    "            for i in range(cols):\n",
    "                res=np.zeros((rows-1,cols-1))\n",
    "                m=0\n",
    "                for j in range(rows):\n",
    "                    n=0\n",
    "                    if j==l:\n",
    "                        continue\n",
    "                    for k in range(cols):\n",
    "                        if i==k:\n",
    "                            continue\n",
    "                        res[m][n]=matrix[j][k]\n",
    "                        n+=1\n",
    "                    m+=1\n",
    "                result[l][i]=(((-1)**l)*(-1)**i)*det(res)\n",
    "        return result"
   ]
  },
  {
   "cell_type": "code",
   "execution_count": 55,
   "id": "7025ecb5",
   "metadata": {},
   "outputs": [],
   "source": [
    "def inverse(A):\n",
    "    det_A=det(A)\n",
    "    return (1/det_A)*adjugate(A)"
   ]
  },
  {
   "cell_type": "code",
   "execution_count": 56,
   "id": "7ce28310",
   "metadata": {},
   "outputs": [],
   "source": [
    "a_inverse=inverse(a)"
   ]
  },
  {
   "cell_type": "code",
   "execution_count": 57,
   "id": "4e6752f2",
   "metadata": {},
   "outputs": [
    {
     "data": {
      "text/plain": [
       "array([[ 0.6, -0.2],\n",
       "       [-0.2,  0.4]])"
      ]
     },
     "execution_count": 57,
     "metadata": {},
     "output_type": "execute_result"
    }
   ],
   "source": [
    "a_inverse"
   ]
  },
  {
   "cell_type": "code",
   "execution_count": 58,
   "id": "b62feb4d",
   "metadata": {},
   "outputs": [
    {
     "data": {
      "text/plain": [
       "array([[1, 0],\n",
       "       [0, 1]])"
      ]
     },
     "execution_count": 58,
     "metadata": {},
     "output_type": "execute_result"
    }
   ],
   "source": [
    "#cross check\n",
    "np.dot(a,a_inverse).astype(int)"
   ]
  },
  {
   "cell_type": "code",
   "execution_count": 59,
   "id": "f5f9205c",
   "metadata": {},
   "outputs": [],
   "source": [
    "matrix=np.array([\n",
    "    [4, 1, 0, 0, 0, 0, 0, 0, 0, 0],\n",
    "    [1, 4, 1, 0, 0, 0, 0, 0, 0, 0],\n",
    "    [0, 1, 4, 1, 0, 0, 0, 0, 0, 0],\n",
    "    [0, 0, 1, 4, 1, 0, 0, 0, 0, 0],\n",
    "    [0, 0, 0, 1, 4, 1, 0, 0, 0, 0],\n",
    "    [0, 0, 0, 0, 1, 4, 1, 0, 0, 0],\n",
    "    [0, 0, 0, 0, 0, 1, 4, 1, 0, 0],\n",
    "    [0, 0, 0, 0, 0, 0, 1, 4, 1, 0],\n",
    "    [0, 0, 0, 0, 0, 0, 0, 1, 4, 1],\n",
    "    [0, 0, 0, 0, 0, 0, 0, 0, 1, 4]\n",
    "])"
   ]
  },
  {
   "cell_type": "code",
   "execution_count": 60,
   "id": "dcdf6464",
   "metadata": {},
   "outputs": [],
   "source": [
    "inv_mat=inverse(matrix)"
   ]
  },
  {
   "cell_type": "code",
   "execution_count": 61,
   "id": "f6339ccb",
   "metadata": {},
   "outputs": [
    {
     "name": "stdout",
     "output_type": "stream",
     "text": [
      "[[0 0 0 0 0 0 0 0 0 0]\n",
      " [0 0 0 0 0 0 0 0 0 0]\n",
      " [0 0 0 0 0 0 0 0 0 0]\n",
      " [0 0 0 0 0 0 0 0 0 0]\n",
      " [0 0 0 0 0 0 0 0 0 0]\n",
      " [0 0 0 0 0 0 0 0 0 0]\n",
      " [0 0 0 0 0 0 0 0 0 0]\n",
      " [0 0 0 0 0 0 0 0 0 0]\n",
      " [0 0 0 0 0 0 0 0 0 0]\n",
      " [0 0 0 0 0 0 0 0 0 0]]\n"
     ]
    }
   ],
   "source": [
    "print(inv_mat.astype(int))"
   ]
  },
  {
   "cell_type": "code",
   "execution_count": 62,
   "id": "76c98340",
   "metadata": {},
   "outputs": [
    {
     "name": "stdout",
     "output_type": "stream",
     "text": [
      "[[1 0 0 0 0 0 0 0 0 0]\n",
      " [0 0 0 0 0 0 0 0 0 0]\n",
      " [0 0 1 0 0 0 0 0 0 0]\n",
      " [0 0 0 1 0 0 0 0 0 0]\n",
      " [0 0 0 0 1 0 0 0 0 0]\n",
      " [0 0 0 0 0 1 0 0 0 0]\n",
      " [0 0 0 0 0 0 1 0 0 0]\n",
      " [0 0 0 0 0 0 0 1 0 0]\n",
      " [0 0 0 0 0 0 0 0 1 0]\n",
      " [0 0 0 0 0 0 0 0 0 1]]\n"
     ]
    }
   ],
   "source": [
    "print(np.dot(matrix,inv_mat).astype(int))"
   ]
  },
  {
   "cell_type": "code",
   "execution_count": 63,
   "id": "3ac820f8",
   "metadata": {},
   "outputs": [
    {
     "data": {
      "text/plain": [
       "array([[ 2.67949192e-01, -7.17967697e-02,  1.92378865e-02,\n",
       "        -5.15477609e-03,  1.38121792e-03, -3.70095570e-04,\n",
       "         9.91643632e-05, -2.65618830e-05,  7.08316880e-06,\n",
       "        -1.77079220e-06],\n",
       "       [-7.17967697e-02,  2.87187079e-01, -7.69515458e-02,\n",
       "         2.06191044e-02, -5.52487166e-03,  1.48038228e-03,\n",
       "        -3.96657453e-04,  1.06247532e-04, -2.83326752e-05,\n",
       "         7.08316880e-06],\n",
       "       [ 1.92378865e-02, -7.69515458e-02,  2.88568297e-01,\n",
       "        -7.73216414e-02,  2.07182687e-02, -5.55143354e-03,\n",
       "         1.48746545e-03, -3.98428245e-04,  1.06247532e-04,\n",
       "        -2.65618830e-05],\n",
       "       [-5.15477609e-03,  2.06191044e-02, -7.73216414e-02,\n",
       "         2.88667461e-01, -7.73482033e-02,  2.07253519e-02,\n",
       "        -5.55320434e-03,  1.48746545e-03, -3.96657453e-04,\n",
       "         9.91643632e-05],\n",
       "       [ 1.38121792e-03, -5.52487166e-03,  2.07182687e-02,\n",
       "        -7.73482033e-02,  2.88674544e-01, -7.73499741e-02,\n",
       "         2.07253519e-02, -5.55143354e-03,  1.48038228e-03,\n",
       "        -3.70095570e-04],\n",
       "       [-3.70095570e-04,  1.48038228e-03, -5.55143354e-03,\n",
       "         2.07253519e-02, -7.73499741e-02,  2.88674544e-01,\n",
       "        -7.73482033e-02,  2.07182687e-02, -5.52487166e-03,\n",
       "         1.38121792e-03],\n",
       "       [ 9.91643632e-05, -3.96657453e-04,  1.48746545e-03,\n",
       "        -5.55320434e-03,  2.07253519e-02, -7.73482033e-02,\n",
       "         2.88667461e-01, -7.73216414e-02,  2.06191044e-02,\n",
       "        -5.15477609e-03],\n",
       "       [-2.65618830e-05,  1.06247532e-04, -3.98428245e-04,\n",
       "         1.48746545e-03, -5.55143354e-03,  2.07182687e-02,\n",
       "        -7.73216414e-02,  2.88568297e-01, -7.69515458e-02,\n",
       "         1.92378865e-02],\n",
       "       [ 7.08316880e-06, -2.83326752e-05,  1.06247532e-04,\n",
       "        -3.96657453e-04,  1.48038228e-03, -5.52487166e-03,\n",
       "         2.06191044e-02, -7.69515458e-02,  2.87187079e-01,\n",
       "        -7.17967697e-02],\n",
       "       [-1.77079220e-06,  7.08316880e-06, -2.65618830e-05,\n",
       "         9.91643632e-05, -3.70095570e-04,  1.38121792e-03,\n",
       "        -5.15477609e-03,  1.92378865e-02, -7.17967697e-02,\n",
       "         2.67949192e-01]])"
      ]
     },
     "execution_count": 63,
     "metadata": {},
     "output_type": "execute_result"
    }
   ],
   "source": [
    "np.linalg.inv(matrix)"
   ]
  },
  {
   "cell_type": "code",
   "execution_count": 64,
   "id": "897fc249",
   "metadata": {},
   "outputs": [
    {
     "name": "stdout",
     "output_type": "stream",
     "text": [
      "[[1 0 0 0 0 0 0 0 0 0]\n",
      " [0 0 0 0 0 0 0 0 0 0]\n",
      " [0 0 1 0 0 0 0 0 0 0]\n",
      " [0 0 0 1 0 0 0 0 0 0]\n",
      " [0 0 0 0 1 0 0 0 0 0]\n",
      " [0 0 0 0 0 1 0 0 0 0]\n",
      " [0 0 0 0 0 0 1 0 0 0]\n",
      " [0 0 0 0 0 0 0 0 0 0]\n",
      " [0 0 0 0 0 0 0 0 1 0]\n",
      " [0 0 0 0 0 0 0 0 0 0]]\n"
     ]
    }
   ],
   "source": [
    "print(np.dot(matrix,np.linalg.inv(matrix)).astype(int))"
   ]
  },
  {
   "cell_type": "code",
   "execution_count": 65,
   "id": "5b4fc79f",
   "metadata": {},
   "outputs": [],
   "source": [
    "mat_6x6=np.array([[3,1,0,0,1,2],\n",
    "    [1,4,1,0,0,1],\n",
    "    [0,1,3,1,0,0],\n",
    "    [0,0,1,4,1,0],\n",
    "    [1,0,0,1,3,1],\n",
    "    [2,1,0,0,1,4]])"
   ]
  },
  {
   "cell_type": "code",
   "execution_count": 66,
   "id": "3d76991d",
   "metadata": {},
   "outputs": [],
   "source": [
    "inv_6x6=inverse(mat_6x6)"
   ]
  },
  {
   "cell_type": "code",
   "execution_count": 67,
   "id": "5be334ff",
   "metadata": {},
   "outputs": [
    {
     "name": "stdout",
     "output_type": "stream",
     "text": [
      "[[ 0.5508982  -0.08682635  0.02095808  0.0239521  -0.11676647 -0.2245509 ]\n",
      " [-0.08682635  0.30988024 -0.10928144  0.01796407  0.03742515 -0.04341317]\n",
      " [ 0.02095808 -0.10928144  0.40568862 -0.10778443  0.0254491   0.01047904]\n",
      " [ 0.0239521   0.01796407 -0.10778443  0.30538922 -0.11377246  0.01197605]\n",
      " [-0.11676647  0.03742515  0.0254491  -0.11377246  0.42964072 -0.05838323]\n",
      " [-0.2245509  -0.04341317  0.01047904  0.01197605 -0.05838323  0.38772455]]\n"
     ]
    }
   ],
   "source": [
    "print(inv_6x6)"
   ]
  },
  {
   "cell_type": "code",
   "execution_count": 68,
   "id": "f0338e9a",
   "metadata": {},
   "outputs": [
    {
     "name": "stdout",
     "output_type": "stream",
     "text": [
      "[[1 0 0 0 0 0]\n",
      " [0 1 0 0 0 0]\n",
      " [0 0 1 0 0 0]\n",
      " [0 0 0 1 0 0]\n",
      " [0 0 0 0 1 0]\n",
      " [0 0 0 0 0 1]]\n"
     ]
    }
   ],
   "source": [
    "print(np.dot(inv_6x6,mat_6x6).astype('int'))"
   ]
  },
  {
   "cell_type": "code",
   "execution_count": null,
   "id": "0249c898",
   "metadata": {},
   "outputs": [],
   "source": []
  }
 ],
 "metadata": {
  "kernelspec": {
   "display_name": "Python 3 (ipykernel)",
   "language": "python",
   "name": "python3"
  },
  "language_info": {
   "codemirror_mode": {
    "name": "ipython",
    "version": 3
   },
   "file_extension": ".py",
   "mimetype": "text/x-python",
   "name": "python",
   "nbconvert_exporter": "python",
   "pygments_lexer": "ipython3",
   "version": "3.11.9"
  }
 },
 "nbformat": 4,
 "nbformat_minor": 5
}
