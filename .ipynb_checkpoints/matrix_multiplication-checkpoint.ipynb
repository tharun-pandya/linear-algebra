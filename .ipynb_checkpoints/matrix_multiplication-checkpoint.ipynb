{
 "cells": [
  {
   "cell_type": "code",
   "execution_count": 1,
   "id": "13738145",
   "metadata": {},
   "outputs": [],
   "source": [
    "import numpy as np"
   ]
  },
  {
   "cell_type": "code",
   "execution_count": 2,
   "id": "f79c5e4c",
   "metadata": {},
   "outputs": [],
   "source": [
    "x=np.random.randn(3,6)\n",
    "y=np.random.randn(6,4)"
   ]
  },
  {
   "cell_type": "code",
   "execution_count": 25,
   "id": "374cde10",
   "metadata": {},
   "outputs": [
    {
     "name": "stdout",
     "output_type": "stream",
     "text": [
      "[[ 0.57785595  0.28132796  0.36390316 -0.30567643]\n",
      " [-1.61129482 -0.60355623  2.51239767  1.10662685]\n",
      " [-0.80701702 -1.36033439  5.0336642  -1.80058926]]\n"
     ]
    }
   ],
   "source": [
    "result=np.zeros((3,4))\n",
    "for i in range(len(x)):\n",
    "    for j in range(len(y[0])):\n",
    "        for k in range(len(y)):\n",
    "            result[i,j]+=x[i,k]*y[k,j]\n",
    "print(result)"
   ]
  },
  {
   "cell_type": "code",
   "execution_count": 26,
   "id": "c785e146",
   "metadata": {},
   "outputs": [
    {
     "name": "stdout",
     "output_type": "stream",
     "text": [
      "[[ 0.57785595  0.28132796  0.36390316 -0.30567643]\n",
      " [-1.61129482 -0.60355623  2.51239767  1.10662685]\n",
      " [-0.80701702 -1.36033439  5.0336642  -1.80058926]]\n"
     ]
    }
   ],
   "source": [
    "print(np.dot(x,y))"
   ]
  },
  {
   "cell_type": "code",
   "execution_count": 27,
   "id": "e67ec1c7",
   "metadata": {},
   "outputs": [
    {
     "name": "stdout",
     "output_type": "stream",
     "text": [
      "[[ 0.57785595  0.28132796  0.36390316 -0.30567643]\n",
      " [-1.61129482 -0.60355623  2.51239767  1.10662685]\n",
      " [-0.80701702 -1.36033439  5.0336642  -1.80058926]]\n"
     ]
    }
   ],
   "source": [
    "print(np.matmul(x,y))"
   ]
  },
  {
   "cell_type": "code",
   "execution_count": null,
   "id": "adb27a15",
   "metadata": {},
   "outputs": [],
   "source": []
  }
 ],
 "metadata": {
  "kernelspec": {
   "display_name": "Python 3 (ipykernel)",
   "language": "python",
   "name": "python3"
  },
  "language_info": {
   "codemirror_mode": {
    "name": "ipython",
    "version": 3
   },
   "file_extension": ".py",
   "mimetype": "text/x-python",
   "name": "python",
   "nbconvert_exporter": "python",
   "pygments_lexer": "ipython3",
   "version": "3.11.9"
  }
 },
 "nbformat": 4,
 "nbformat_minor": 5
}
