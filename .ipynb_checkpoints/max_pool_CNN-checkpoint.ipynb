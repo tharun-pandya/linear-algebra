{
 "cells": [
  {
   "cell_type": "code",
   "execution_count": 98,
   "id": "57b6a7b4",
   "metadata": {},
   "outputs": [],
   "source": [
    "import numpy as np"
   ]
  },
  {
   "cell_type": "code",
   "execution_count": 99,
   "id": "ad19e241",
   "metadata": {},
   "outputs": [],
   "source": [
    "def max_pooling(m,f):\n",
    "    max=0\n",
    "    for i in range(0,f):\n",
    "        for j in range(0,f):\n",
    "            if max<m[i,j]:\n",
    "                max=m[i,j]\n",
    "    return max"
   ]
  },
  {
   "cell_type": "code",
   "execution_count": 100,
   "id": "2fd77d81",
   "metadata": {},
   "outputs": [],
   "source": [
    "def pooling(m,f,s=1,p=0):\n",
    "    nh=int((((m.shape[0]+2*p)-f)/s)+1)\n",
    "    nw=int((((m.shape[1]+2*p)-f)/s)+1)\n",
    "    result=np.zeros((nh,nw))\n",
    "    k=0\n",
    "    n=0\n",
    "    for i in range(0,m.shape[0],s):\n",
    "        n=0\n",
    "        if (i+f>m.shape[0]):\n",
    "            break\n",
    "        for j in range(0,m.shape[1],s):\n",
    "            if (j+f>m.shape[1]):\n",
    "                break\n",
    "            result[k,n]=max_pooling(m[i:i+f,j:j+f],f)\n",
    "            n+=1\n",
    "        k+=1\n",
    "    return result"
   ]
  },
  {
   "cell_type": "code",
   "execution_count": 101,
   "id": "1077ffb7",
   "metadata": {},
   "outputs": [],
   "source": [
    "mat=np.array([[1,3,2,1],[2,9,1,1],[1,4,2,3],[5,6,1,2]])"
   ]
  },
  {
   "cell_type": "code",
   "execution_count": 102,
   "id": "e3a2d97d",
   "metadata": {},
   "outputs": [
    {
     "data": {
      "text/plain": [
       "array([[9., 2.],\n",
       "       [6., 3.]])"
      ]
     },
     "execution_count": 102,
     "metadata": {},
     "output_type": "execute_result"
    }
   ],
   "source": [
    "pooling(mat,2,s=2)"
   ]
  },
  {
   "cell_type": "code",
   "execution_count": null,
   "id": "236159be",
   "metadata": {},
   "outputs": [],
   "source": []
  }
 ],
 "metadata": {
  "kernelspec": {
   "display_name": "Python 3 (ipykernel)",
   "language": "python",
   "name": "python3"
  },
  "language_info": {
   "codemirror_mode": {
    "name": "ipython",
    "version": 3
   },
   "file_extension": ".py",
   "mimetype": "text/x-python",
   "name": "python",
   "nbconvert_exporter": "python",
   "pygments_lexer": "ipython3",
   "version": "3.11.9"
  }
 },
 "nbformat": 4,
 "nbformat_minor": 5
}
